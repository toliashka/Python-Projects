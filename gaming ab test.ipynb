{
 "cells": [
  {
   "cell_type": "markdown",
   "id": "79b232e6",
   "metadata": {},
   "source": [
    "# Cookie Cats A/B Testing\n",
    "https://www.kaggle.com/datasets/yufengsui/mobile-games-ab-testing\n",
    "\n",
    "The data is from 90,189 players that installed the game while the AB-test was running. The variables are:\n",
    "\n",
    "    userid - a unique number that identifies each player.\n",
    "\n",
    "    version - whether the player was put in the control group (gate_30 - a gate at level 30) or the test group (gate_40 - a gate at level 40).\n",
    "\n",
    "    sum_gamerounds - the number of game rounds played by the player during the first week after installation\n",
    "\n",
    "    retention_1 - did the player come back and play 1 day after installing?\n",
    "\n",
    "    retention_7 - did the player come back and play 7 days after installing?\n",
    "\n",
    "When a player installed the game, he or she was randomly assigned to either gate_30 or gate_40."
   ]
  },
  {
   "cell_type": "markdown",
   "id": "7f3d9141",
   "metadata": {},
   "source": [
    "# Preprocessing data"
   ]
  },
  {
   "cell_type": "code",
   "execution_count": 1,
   "id": "696e403c",
   "metadata": {},
   "outputs": [],
   "source": [
    "import pandas as pd\n",
    "from matplotlib import pyplot as plt\n",
    "from scipy import stats as st\n",
    "import math\n",
    "import numpy as np\n",
    "import scipy\n",
    "import seaborn as sns\n",
    "from scipy.stats import shapiro\n",
    "import warnings\n",
    "warnings.filterwarnings('ignore')"
   ]
  },
  {
   "cell_type": "code",
   "execution_count": 2,
   "id": "ba3ff6a4",
   "metadata": {},
   "outputs": [],
   "source": [
    "data=pd.read_csv('../gaming ab test/cookie_cats.csv')"
   ]
  },
  {
   "cell_type": "code",
   "execution_count": 3,
   "id": "2b45fdc8",
   "metadata": {},
   "outputs": [
    {
     "data": {
      "text/html": [
       "<div>\n",
       "<style scoped>\n",
       "    .dataframe tbody tr th:only-of-type {\n",
       "        vertical-align: middle;\n",
       "    }\n",
       "\n",
       "    .dataframe tbody tr th {\n",
       "        vertical-align: top;\n",
       "    }\n",
       "\n",
       "    .dataframe thead th {\n",
       "        text-align: right;\n",
       "    }\n",
       "</style>\n",
       "<table border=\"1\" class=\"dataframe\">\n",
       "  <thead>\n",
       "    <tr style=\"text-align: right;\">\n",
       "      <th></th>\n",
       "      <th>userid</th>\n",
       "      <th>version</th>\n",
       "      <th>sum_gamerounds</th>\n",
       "      <th>retention_1</th>\n",
       "      <th>retention_7</th>\n",
       "    </tr>\n",
       "  </thead>\n",
       "  <tbody>\n",
       "    <tr>\n",
       "      <th>0</th>\n",
       "      <td>116</td>\n",
       "      <td>gate_30</td>\n",
       "      <td>3</td>\n",
       "      <td>False</td>\n",
       "      <td>False</td>\n",
       "    </tr>\n",
       "    <tr>\n",
       "      <th>1</th>\n",
       "      <td>337</td>\n",
       "      <td>gate_30</td>\n",
       "      <td>38</td>\n",
       "      <td>True</td>\n",
       "      <td>False</td>\n",
       "    </tr>\n",
       "    <tr>\n",
       "      <th>2</th>\n",
       "      <td>377</td>\n",
       "      <td>gate_40</td>\n",
       "      <td>165</td>\n",
       "      <td>True</td>\n",
       "      <td>False</td>\n",
       "    </tr>\n",
       "    <tr>\n",
       "      <th>3</th>\n",
       "      <td>483</td>\n",
       "      <td>gate_40</td>\n",
       "      <td>1</td>\n",
       "      <td>False</td>\n",
       "      <td>False</td>\n",
       "    </tr>\n",
       "    <tr>\n",
       "      <th>4</th>\n",
       "      <td>488</td>\n",
       "      <td>gate_40</td>\n",
       "      <td>179</td>\n",
       "      <td>True</td>\n",
       "      <td>True</td>\n",
       "    </tr>\n",
       "  </tbody>\n",
       "</table>\n",
       "</div>"
      ],
      "text/plain": [
       "   userid  version  sum_gamerounds  retention_1  retention_7\n",
       "0     116  gate_30               3        False        False\n",
       "1     337  gate_30              38         True        False\n",
       "2     377  gate_40             165         True        False\n",
       "3     483  gate_40               1        False        False\n",
       "4     488  gate_40             179         True         True"
      ]
     },
     "execution_count": 3,
     "metadata": {},
     "output_type": "execute_result"
    }
   ],
   "source": [
    "data.head()"
   ]
  },
  {
   "cell_type": "code",
   "execution_count": 4,
   "id": "42532027",
   "metadata": {},
   "outputs": [
    {
     "name": "stdout",
     "output_type": "stream",
     "text": [
      "<class 'pandas.core.frame.DataFrame'>\n",
      "RangeIndex: 90189 entries, 0 to 90188\n",
      "Data columns (total 5 columns):\n",
      " #   Column          Non-Null Count  Dtype \n",
      "---  ------          --------------  ----- \n",
      " 0   userid          90189 non-null  int64 \n",
      " 1   version         90189 non-null  object\n",
      " 2   sum_gamerounds  90189 non-null  int64 \n",
      " 3   retention_1     90189 non-null  bool  \n",
      " 4   retention_7     90189 non-null  bool  \n",
      "dtypes: bool(2), int64(2), object(1)\n",
      "memory usage: 2.2+ MB\n"
     ]
    }
   ],
   "source": [
    "data.info()"
   ]
  },
  {
   "cell_type": "code",
   "execution_count": 5,
   "id": "d90698c2",
   "metadata": {},
   "outputs": [
    {
     "data": {
      "text/plain": [
       "0"
      ]
     },
     "execution_count": 5,
     "metadata": {},
     "output_type": "execute_result"
    }
   ],
   "source": [
    "data.duplicated().sum()"
   ]
  },
  {
   "cell_type": "markdown",
   "id": "84122163",
   "metadata": {},
   "source": [
    "**Data is clean**"
   ]
  },
  {
   "cell_type": "markdown",
   "id": "30cba4f2",
   "metadata": {},
   "source": [
    "#  EDA"
   ]
  },
  {
   "cell_type": "markdown",
   "id": "bc1153a0",
   "metadata": {},
   "source": [
    "Going to analyze the behavior of players from different version groups"
   ]
  },
  {
   "cell_type": "code",
   "execution_count": 6,
   "id": "5c78c42d",
   "metadata": {},
   "outputs": [
    {
     "data": {
      "text/html": [
       "<style type=\"text/css\">\n",
       "</style>\n",
       "<table id=\"T_9c361\" style='display:inline'>\n",
       "  <caption>Sum of gamerounds stats</caption>\n",
       "  <thead>\n",
       "    <tr>\n",
       "      <th class=\"blank level0\" >&nbsp;</th>\n",
       "      <th id=\"T_9c361_level0_col0\" class=\"col_heading level0 col0\" >players</th>\n",
       "      <th id=\"T_9c361_level0_col1\" class=\"col_heading level0 col1\" >min</th>\n",
       "      <th id=\"T_9c361_level0_col2\" class=\"col_heading level0 col2\" >max</th>\n",
       "      <th id=\"T_9c361_level0_col3\" class=\"col_heading level0 col3\" >mean</th>\n",
       "      <th id=\"T_9c361_level0_col4\" class=\"col_heading level0 col4\" >median</th>\n",
       "      <th id=\"T_9c361_level0_col5\" class=\"col_heading level0 col5\" >var</th>\n",
       "      <th id=\"T_9c361_level0_col6\" class=\"col_heading level0 col6\" >std</th>\n",
       "      <th id=\"T_9c361_level0_col7\" class=\"col_heading level0 col7\" >played rounds</th>\n",
       "    </tr>\n",
       "    <tr>\n",
       "      <th class=\"index_name level0\" >version</th>\n",
       "      <th class=\"blank col0\" >&nbsp;</th>\n",
       "      <th class=\"blank col1\" >&nbsp;</th>\n",
       "      <th class=\"blank col2\" >&nbsp;</th>\n",
       "      <th class=\"blank col3\" >&nbsp;</th>\n",
       "      <th class=\"blank col4\" >&nbsp;</th>\n",
       "      <th class=\"blank col5\" >&nbsp;</th>\n",
       "      <th class=\"blank col6\" >&nbsp;</th>\n",
       "      <th class=\"blank col7\" >&nbsp;</th>\n",
       "    </tr>\n",
       "  </thead>\n",
       "  <tbody>\n",
       "    <tr>\n",
       "      <th id=\"T_9c361_level0_row0\" class=\"row_heading level0 row0\" >gate_30</th>\n",
       "      <td id=\"T_9c361_row0_col0\" class=\"data row0 col0\" >44700</td>\n",
       "      <td id=\"T_9c361_row0_col1\" class=\"data row0 col1\" >0</td>\n",
       "      <td id=\"T_9c361_row0_col2\" class=\"data row0 col2\" >49854</td>\n",
       "      <td id=\"T_9c361_row0_col3\" class=\"data row0 col3\" >52.456264</td>\n",
       "      <td id=\"T_9c361_row0_col4\" class=\"data row0 col4\" >17.000000</td>\n",
       "      <td id=\"T_9c361_row0_col5\" class=\"data row0 col5\" >65903.321897</td>\n",
       "      <td id=\"T_9c361_row0_col6\" class=\"data row0 col6\" >256.716423</td>\n",
       "      <td id=\"T_9c361_row0_col7\" class=\"data row0 col7\" >2344795</td>\n",
       "    </tr>\n",
       "    <tr>\n",
       "      <th id=\"T_9c361_level0_row1\" class=\"row_heading level0 row1\" >gate_40</th>\n",
       "      <td id=\"T_9c361_row1_col0\" class=\"data row1 col0\" >45489</td>\n",
       "      <td id=\"T_9c361_row1_col1\" class=\"data row1 col1\" >0</td>\n",
       "      <td id=\"T_9c361_row1_col2\" class=\"data row1 col2\" >2640</td>\n",
       "      <td id=\"T_9c361_row1_col3\" class=\"data row1 col3\" >51.298776</td>\n",
       "      <td id=\"T_9c361_row1_col4\" class=\"data row1 col4\" >16.000000</td>\n",
       "      <td id=\"T_9c361_row1_col5\" class=\"data row1 col5\" >10669.736422</td>\n",
       "      <td id=\"T_9c361_row1_col6\" class=\"data row1 col6\" >103.294416</td>\n",
       "      <td id=\"T_9c361_row1_col7\" class=\"data row1 col7\" >2333530</td>\n",
       "    </tr>\n",
       "  </tbody>\n",
       "</table>\n"
      ],
      "text/plain": [
       "<pandas.io.formats.style.Styler at 0x2180affaca0>"
      ]
     },
     "execution_count": 6,
     "metadata": {},
     "output_type": "execute_result"
    }
   ],
   "source": [
    "version_data=data.groupby('version').agg({'sum_gamerounds':['count','min','max', 'mean', 'median', 'var', 'std', 'sum']})\n",
    "version_data.columns=['players','min','max', 'mean', 'median', 'var', 'std', 'played rounds' ]\n",
    "version_data.style.set_table_attributes(\"style='display:inline'\").set_caption('Sum of gamerounds stats')"
   ]
  },
  {
   "cell_type": "markdown",
   "id": "10ee4103",
   "metadata": {},
   "source": [
    "Almost the same number of players in each group. Almost the same number of played rounds. Gate_30 has an anomaly in maximum value. Mean, median are almost equal"
   ]
  },
  {
   "cell_type": "code",
   "execution_count": 7,
   "id": "09df9f50",
   "metadata": {},
   "outputs": [
    {
     "data": {
      "text/html": [
       "<div>\n",
       "<style scoped>\n",
       "    .dataframe tbody tr th:only-of-type {\n",
       "        vertical-align: middle;\n",
       "    }\n",
       "\n",
       "    .dataframe tbody tr th {\n",
       "        vertical-align: top;\n",
       "    }\n",
       "\n",
       "    .dataframe thead th {\n",
       "        text-align: right;\n",
       "    }\n",
       "</style>\n",
       "<table border=\"1\" class=\"dataframe\">\n",
       "  <thead>\n",
       "    <tr style=\"text-align: right;\">\n",
       "      <th></th>\n",
       "      <th>retention_1</th>\n",
       "      <th>retention_7</th>\n",
       "    </tr>\n",
       "    <tr>\n",
       "      <th>version</th>\n",
       "      <th></th>\n",
       "      <th></th>\n",
       "    </tr>\n",
       "  </thead>\n",
       "  <tbody>\n",
       "    <tr>\n",
       "      <th>gate_30</th>\n",
       "      <td>0.448188</td>\n",
       "      <td>0.190201</td>\n",
       "    </tr>\n",
       "    <tr>\n",
       "      <th>gate_40</th>\n",
       "      <td>0.442283</td>\n",
       "      <td>0.182000</td>\n",
       "    </tr>\n",
       "  </tbody>\n",
       "</table>\n",
       "</div>"
      ],
      "text/plain": [
       "         retention_1  retention_7\n",
       "version                          \n",
       "gate_30     0.448188     0.190201\n",
       "gate_40     0.442283     0.182000"
      ]
     },
     "execution_count": 7,
     "metadata": {},
     "output_type": "execute_result"
    }
   ],
   "source": [
    "data.pivot_table(index='version', values=['retention_1', 'retention_7'], aggfunc='mean')"
   ]
  },
  {
   "cell_type": "markdown",
   "id": "7018a20c",
   "metadata": {},
   "source": [
    "The retention rates of groups are quite close"
   ]
  },
  {
   "cell_type": "code",
   "execution_count": 8,
   "id": "738d027b",
   "metadata": {},
   "outputs": [
    {
     "data": {
      "image/png": "[encoded data removed]",
      "text/plain": [
       "<Figure size 432x288 with 1 Axes>"
      ]
     },
     "metadata": {
      "needs_background": "light"
     },
     "output_type": "display_data"
    }
   ],
   "source": [
    "sns.boxplot(x = data.version, y = data.sum_gamerounds).set_title('Distribution of two groups')\n",
    "plt.show()"
   ]
  },
  {
   "cell_type": "code",
   "execution_count": 9,
   "id": "3bf8141a",
   "metadata": {},
   "outputs": [],
   "source": [
    "gate30=data.query('version==\"gate_30\"')\n",
    "gate40=data.query('version==\"gate_40\"')"
   ]
  },
  {
   "cell_type": "code",
   "execution_count": 10,
   "id": "742f0808",
   "metadata": {},
   "outputs": [
    {
     "data": {
      "image/png": "[encoded data removed]",
      "text/plain": [
       "<Figure size 432x288 with 1 Axes>"
      ]
     },
     "metadata": {
      "needs_background": "light"
     },
     "output_type": "display_data"
    }
   ],
   "source": [
    "gate30['sum_gamerounds'].plot(label='gate_30', legend=1, alpha=0.5, title='Distribution of rounds played')\n",
    "gate40['sum_gamerounds'].plot(label='gate_40', legend=1, alpha=0.5)\n",
    "plt.show()"
   ]
  },
  {
   "cell_type": "code",
   "execution_count": 42,
   "id": "14bea63a",
   "metadata": {},
   "outputs": [
    {
     "data": {
      "image/png": "[encoded data removed]",
      "text/plain": [
       "<Figure size 432x288 with 1 Axes>"
      ]
     },
     "metadata": {
      "needs_background": "light"
     },
     "output_type": "display_data"
    }
   ],
   "source": [
    "plt30=gate30.groupby('sum_gamerounds')['userid'].count()\n",
    "plt40=gate40.groupby('sum_gamerounds')['userid'].count()\n",
    "plt30.plot(kind='hist', bins=1000,xlim=(0,500),ylim=(0,30)\n",
    "                                                    ,title='Distribution of rounds played by one player'\n",
    "                                                      , label='gate_30', legend=1, alpha=0.5,x='sum_gamerounds', y='userid')\n",
    "\n",
    "plt40.plot(kind='hist',bins=1000,\n",
    "                                                    label='gate_40', legend=1, alpha=0.5,x='sum_gamerounds', y='userid')\n",
    "plt.show()"
   ]
  },
  {
   "cell_type": "markdown",
   "id": "624c8a5c",
   "metadata": {},
   "source": [
    "Most of the players played less than 100 rounds"
   ]
  },
  {
   "cell_type": "markdown",
   "id": "4df4d886",
   "metadata": {},
   "source": [
    "Outlying value is clearly observed. Going to remove outliers larger than 0.95 quantile"
   ]
  },
  {
   "cell_type": "code",
   "execution_count": 12,
   "id": "4c2b53d3",
   "metadata": {},
   "outputs": [],
   "source": [
    "def outlier_removed(data1,data2,x):\n",
    "    dc_1 = data1[data1.sum_gamerounds <=data1.sum_gamerounds.quantile(x)]\n",
    "    dc_2 = data2[data2.sum_gamerounds <=data2.sum_gamerounds.quantile(x)]\n",
    "    dc = pd.concat([dc_1,dc_2])\n",
    "    return dc\n",
    "\n",
    "data_clean =  outlier_removed(gate30,gate40, 0.95)"
   ]
  },
  {
   "cell_type": "code",
   "execution_count": 13,
   "id": "b1694ea0",
   "metadata": {},
   "outputs": [],
   "source": [
    "gate30_clean=data_clean.query('version==\"gate_30\"').reset_index()\n",
    "gate40_clean=data_clean.query('version==\"gate_40\"').reset_index()"
   ]
  },
  {
   "cell_type": "markdown",
   "id": "e4aaec85",
   "metadata": {},
   "source": [
    "Let's explore the data after deleting the outliers"
   ]
  },
  {
   "cell_type": "code",
   "execution_count": 14,
   "id": "a542bc53",
   "metadata": {},
   "outputs": [
    {
     "data": {
      "text/html": [
       "<style type=\"text/css\">\n",
       "</style>\n",
       "<table id=\"T_e27ab\" style='display:inline'>\n",
       "  <caption>Sum of gamerounds stats</caption>\n",
       "  <thead>\n",
       "    <tr>\n",
       "      <th class=\"blank level0\" >&nbsp;</th>\n",
       "      <th id=\"T_e27ab_level0_col0\" class=\"col_heading level0 col0\" >players</th>\n",
       "      <th id=\"T_e27ab_level0_col1\" class=\"col_heading level0 col1\" >min</th>\n",
       "      <th id=\"T_e27ab_level0_col2\" class=\"col_heading level0 col2\" >max</th>\n",
       "      <th id=\"T_e27ab_level0_col3\" class=\"col_heading level0 col3\" >mean</th>\n",
       "      <th id=\"T_e27ab_level0_col4\" class=\"col_heading level0 col4\" >median</th>\n",
       "      <th id=\"T_e27ab_level0_col5\" class=\"col_heading level0 col5\" >var</th>\n",
       "      <th id=\"T_e27ab_level0_col6\" class=\"col_heading level0 col6\" >std</th>\n",
       "      <th id=\"T_e27ab_level0_col7\" class=\"col_heading level0 col7\" >played rounds</th>\n",
       "    </tr>\n",
       "    <tr>\n",
       "      <th class=\"index_name level0\" >version</th>\n",
       "      <th class=\"blank col0\" >&nbsp;</th>\n",
       "      <th class=\"blank col1\" >&nbsp;</th>\n",
       "      <th class=\"blank col2\" >&nbsp;</th>\n",
       "      <th class=\"blank col3\" >&nbsp;</th>\n",
       "      <th class=\"blank col4\" >&nbsp;</th>\n",
       "      <th class=\"blank col5\" >&nbsp;</th>\n",
       "      <th class=\"blank col6\" >&nbsp;</th>\n",
       "      <th class=\"blank col7\" >&nbsp;</th>\n",
       "    </tr>\n",
       "  </thead>\n",
       "  <tbody>\n",
       "    <tr>\n",
       "      <th id=\"T_e27ab_level0_row0\" class=\"row_heading level0 row0\" >gate_30</th>\n",
       "      <td id=\"T_e27ab_row0_col0\" class=\"data row0 col0\" >42477</td>\n",
       "      <td id=\"T_e27ab_row0_col1\" class=\"data row0 col1\" >0</td>\n",
       "      <td id=\"T_e27ab_row0_col2\" class=\"data row0 col2\" >222</td>\n",
       "      <td id=\"T_e27ab_row0_col3\" class=\"data row0 col3\" >33.233821</td>\n",
       "      <td id=\"T_e27ab_row0_col4\" class=\"data row0 col4\" >15.000000</td>\n",
       "      <td id=\"T_e27ab_row0_col5\" class=\"data row0 col5\" >1947.873474</td>\n",
       "      <td id=\"T_e27ab_row0_col6\" class=\"data row0 col6\" >44.134720</td>\n",
       "      <td id=\"T_e27ab_row0_col7\" class=\"data row0 col7\" >1411673</td>\n",
       "    </tr>\n",
       "    <tr>\n",
       "      <th id=\"T_e27ab_level0_row1\" class=\"row_heading level0 row1\" >gate_40</th>\n",
       "      <td id=\"T_e27ab_row1_col0\" class=\"data row1 col0\" >43225</td>\n",
       "      <td id=\"T_e27ab_row1_col1\" class=\"data row1 col1\" >0</td>\n",
       "      <td id=\"T_e27ab_row1_col2\" class=\"data row1 col2\" >220</td>\n",
       "      <td id=\"T_e27ab_row1_col3\" class=\"data row1 col3\" >33.091868</td>\n",
       "      <td id=\"T_e27ab_row1_col4\" class=\"data row1 col4\" >15.000000</td>\n",
       "      <td id=\"T_e27ab_row1_col5\" class=\"data row1 col5\" >1941.031977</td>\n",
       "      <td id=\"T_e27ab_row1_col6\" class=\"data row1 col6\" >44.057144</td>\n",
       "      <td id=\"T_e27ab_row1_col7\" class=\"data row1 col7\" >1430396</td>\n",
       "    </tr>\n",
       "  </tbody>\n",
       "</table>\n"
      ],
      "text/plain": [
       "<pandas.io.formats.style.Styler at 0x218101ac8e0>"
      ]
     },
     "execution_count": 14,
     "metadata": {},
     "output_type": "execute_result"
    }
   ],
   "source": [
    "version_data_clean=data_clean.groupby('version').agg({'sum_gamerounds':['count','min','max', 'mean', 'median', 'var', 'std', 'sum']})\n",
    "version_data_clean.columns=['players','min','max', 'mean', 'median', 'var', 'std', 'played rounds' ]\n",
    "version_data_clean.style.set_table_attributes(\"style='display:inline'\").set_caption('Sum of gamerounds stats')"
   ]
  },
  {
   "cell_type": "markdown",
   "id": "7221d8f2",
   "metadata": {},
   "source": [
    "Stats are quite simillar now"
   ]
  },
  {
   "cell_type": "code",
   "execution_count": 15,
   "id": "d53366f1",
   "metadata": {},
   "outputs": [
    {
     "data": {
      "text/html": [
       "<div>\n",
       "<style scoped>\n",
       "    .dataframe tbody tr th:only-of-type {\n",
       "        vertical-align: middle;\n",
       "    }\n",
       "\n",
       "    .dataframe tbody tr th {\n",
       "        vertical-align: top;\n",
       "    }\n",
       "\n",
       "    .dataframe thead th {\n",
       "        text-align: right;\n",
       "    }\n",
       "</style>\n",
       "<table border=\"1\" class=\"dataframe\">\n",
       "  <thead>\n",
       "    <tr style=\"text-align: right;\">\n",
       "      <th></th>\n",
       "      <th>retention_1</th>\n",
       "      <th>retention_7</th>\n",
       "    </tr>\n",
       "    <tr>\n",
       "      <th>version</th>\n",
       "      <th></th>\n",
       "      <th></th>\n",
       "    </tr>\n",
       "  </thead>\n",
       "  <tbody>\n",
       "    <tr>\n",
       "      <th>gate_30</th>\n",
       "      <td>0.422440</td>\n",
       "      <td>0.154719</td>\n",
       "    </tr>\n",
       "    <tr>\n",
       "      <th>gate_40</th>\n",
       "      <td>0.416356</td>\n",
       "      <td>0.146003</td>\n",
       "    </tr>\n",
       "  </tbody>\n",
       "</table>\n",
       "</div>"
      ],
      "text/plain": [
       "         retention_1  retention_7\n",
       "version                          \n",
       "gate_30     0.422440     0.154719\n",
       "gate_40     0.416356     0.146003"
      ]
     },
     "execution_count": 15,
     "metadata": {},
     "output_type": "execute_result"
    }
   ],
   "source": [
    "data_clean.pivot_table(index='version', values=['retention_1', 'retention_7'], aggfunc='mean')"
   ]
  },
  {
   "cell_type": "markdown",
   "id": "1cf27317",
   "metadata": {},
   "source": [
    "Retention rates have dropped down. But still quite close to each other"
   ]
  },
  {
   "cell_type": "code",
   "execution_count": 16,
   "id": "1c7640d4",
   "metadata": {},
   "outputs": [
    {
     "data": {
      "image/png": "[encoded data removed]",
      "text/plain": [
       "<Figure size 432x288 with 1 Axes>"
      ]
     },
     "metadata": {
      "needs_background": "light"
     },
     "output_type": "display_data"
    }
   ],
   "source": [
    "sns.boxplot(x = data_clean.version, y = data_clean.sum_gamerounds).set_title('Distribution of two groups after cleaning')\n",
    "plt.show()"
   ]
  },
  {
   "cell_type": "markdown",
   "id": "8b9bfd33",
   "metadata": {},
   "source": [
    "Looks much better now"
   ]
  },
  {
   "cell_type": "code",
   "execution_count": 17,
   "id": "edb0f263",
   "metadata": {},
   "outputs": [
    {
     "data": {
      "image/png": "[encoded data removed]",
      "text/plain": [
       "<Figure size 432x288 with 1 Axes>"
      ]
     },
     "metadata": {
      "needs_background": "light"
     },
     "output_type": "display_data"
    }
   ],
   "source": [
    "gate30_clean['sum_gamerounds'].plot(label='gate_30', legend=1, alpha=0.5, title='Distribution of rounds played after cleaning'\n",
    "                                   , ylim=(0,400))\n",
    "gate40_clean['sum_gamerounds'].plot(label='gate_40', legend=1, alpha=0.5)\n",
    "plt.show()"
   ]
  },
  {
   "cell_type": "code",
   "execution_count": 36,
   "id": "1fb56c0d",
   "metadata": {},
   "outputs": [
    {
     "data": {
      "image/png": "[encoded data removed]",
      "text/plain": [
       "<Figure size 432x288 with 1 Axes>"
      ]
     },
     "metadata": {
      "needs_background": "light"
     },
     "output_type": "display_data"
    }
   ],
   "source": [
    "plot30=gate30_clean.groupby('sum_gamerounds')['userid'].count()\n",
    "plot40=gate40_clean.groupby('sum_gamerounds')['userid'].count()\n",
    "plot30.plot(kind='hist', bins=50,title='Gamerounds histogram after cleaning', label='gate_30', legend=1, alpha=0.5\n",
    "            ,x='sum_gamerounds', y='userid')\n",
    "plot40.plot(kind='hist', bins=50, label='gate_40', legend=1, alpha=0.5, x='sum_gamerounds', y='userid')\n",
    "plt.show()"
   ]
  },
  {
   "cell_type": "markdown",
   "id": "42834568",
   "metadata": {},
   "source": [
    "Looks like the behavior of the players is quite the same. Let's do AB testing"
   ]
  },
  {
   "cell_type": "markdown",
   "id": "ec33da6c",
   "metadata": {},
   "source": [
    "# Gamerounds A/B Testing"
   ]
  },
  {
   "cell_type": "markdown",
   "id": "2a39b7ea",
   "metadata": {},
   "source": [
    "'sum_gamerounds' is a continuous metric. So first of all we need to apply **Shapiro-Wilk** test to check if each group was drawn\n",
    "from a normal distribution"
   ]
  },
  {
   "cell_type": "code",
   "execution_count": 19,
   "id": "6e75c680",
   "metadata": {},
   "outputs": [
    {
     "name": "stdout",
     "output_type": "stream",
     "text": [
      "ShapiroResult(statistic=0.7242306470870972, pvalue=0.0)\n"
     ]
    }
   ],
   "source": [
    "#checking gate 30\n",
    "group30=gate30_clean['sum_gamerounds']\n",
    "sh30=shapiro(group30)\n",
    "print(sh30)"
   ]
  },
  {
   "cell_type": "code",
   "execution_count": 20,
   "id": "41c2fd0d",
   "metadata": {},
   "outputs": [
    {
     "name": "stdout",
     "output_type": "stream",
     "text": [
      "ShapiroResult(statistic=0.7269339561462402, pvalue=0.0)\n"
     ]
    }
   ],
   "source": [
    "#checking gate 40\n",
    "group40=gate40_clean['sum_gamerounds']\n",
    "sh40=shapiro(group40)\n",
    "print(sh40)"
   ]
  },
  {
   "cell_type": "markdown",
   "id": "b8e909fa",
   "metadata": {},
   "source": [
    "Pvalue = 0. So distributions of gate30 and gate 40 are not normal. Therefore we can use **Mann Whitney U Test**\n",
    "\n",
    "A-gate30, B-gate40\n",
    "\n",
    "H0: A==B\n",
    "\n",
    "H1: A!=B\n",
    "\n",
    "alpha=0.05"
   ]
  },
  {
   "cell_type": "code",
   "execution_count": 21,
   "id": "80f12210",
   "metadata": {},
   "outputs": [
    {
     "data": {
      "text/plain": [
       "MannwhitneyuResult(statistic=925675263.5, pvalue=0.03476759705137729)"
      ]
     },
     "execution_count": 21,
     "metadata": {},
     "output_type": "execute_result"
    }
   ],
   "source": [
    "st.mannwhitneyu(group30, group40)"
   ]
  },
  {
   "cell_type": "markdown",
   "id": "2cae20cc",
   "metadata": {},
   "source": [
    "**Reject H0**, groups are not simillar in terms of gamerounds"
   ]
  },
  {
   "cell_type": "markdown",
   "id": "8f75cab4",
   "metadata": {},
   "source": [
    "# Retention A/B Testing"
   ]
  },
  {
   "cell_type": "markdown",
   "id": "e238edfd",
   "metadata": {},
   "source": [
    "Retention is discrete metric. As we have large sample size, im going to apply **Pearson's Chi square test**"
   ]
  },
  {
   "cell_type": "markdown",
   "id": "62296b9e",
   "metadata": {},
   "source": [
    "Hyphothesis for retention rate:\n",
    "\n",
    "H0: A==B\n",
    "\n",
    "H1: A!=B\n",
    "\n",
    "alpha=0.05"
   ]
  },
  {
   "cell_type": "code",
   "execution_count": 22,
   "id": "ca19e81e",
   "metadata": {},
   "outputs": [],
   "source": [
    "#checking retention_1\n",
    "group30_r1=gate30_clean['retention_1']\n",
    "group40_r1=gate40_clean['retention_1']\n"
   ]
  },
  {
   "cell_type": "code",
   "execution_count": 23,
   "id": "40a335a1",
   "metadata": {},
   "outputs": [],
   "source": [
    "table_r1=pd.DataFrame({'30_count': group30_r1.value_counts(),'40_count': group40_r1.value_counts()}).to_numpy()"
   ]
  },
  {
   "cell_type": "code",
   "execution_count": 24,
   "id": "b3fb2a45",
   "metadata": {},
   "outputs": [],
   "source": [
    "stat, p_value, dof, expected = st.chi2_contingency(table_r1)"
   ]
  },
  {
   "cell_type": "code",
   "execution_count": 25,
   "id": "a6b793e9",
   "metadata": {},
   "outputs": [
    {
     "name": "stdout",
     "output_type": "stream",
     "text": [
      "P-value for retention_1: 0.07221763789154344\n"
     ]
    }
   ],
   "source": [
    "print('P-value for retention_1:',p_value)"
   ]
  },
  {
   "cell_type": "markdown",
   "id": "2189fb74",
   "metadata": {},
   "source": [
    "**Fail to reject H0**, groups are simillar in terms of retention_1"
   ]
  },
  {
   "cell_type": "code",
   "execution_count": 26,
   "id": "39d3954e",
   "metadata": {},
   "outputs": [],
   "source": [
    "#checking retention_7\n",
    "group30_r7=gate30_clean['retention_7']\n",
    "group40_r7=gate40_clean['retention_7']"
   ]
  },
  {
   "cell_type": "code",
   "execution_count": 27,
   "id": "c91491eb",
   "metadata": {},
   "outputs": [],
   "source": [
    "table_r7=pd.DataFrame({'30_count': group30_r7.value_counts(),'40_count': group40_r7.value_counts()}).to_numpy()"
   ]
  },
  {
   "cell_type": "code",
   "execution_count": 28,
   "id": "a3bd6e54",
   "metadata": {},
   "outputs": [],
   "source": [
    "stat7, p_value7, dof7, expected7 = st.chi2_contingency(table_r7)"
   ]
  },
  {
   "cell_type": "code",
   "execution_count": 29,
   "id": "232a6ad0",
   "metadata": {},
   "outputs": [
    {
     "name": "stdout",
     "output_type": "stream",
     "text": [
      "P-value for retention_7: 0.0003709759201710417\n"
     ]
    }
   ],
   "source": [
    "print('P-value for retention_7:',p_value7)"
   ]
  },
  {
   "cell_type": "markdown",
   "id": "4159421c",
   "metadata": {},
   "source": [
    "**Reject H0**, groups are not simillar in terms of retention_7"
   ]
  },
  {
   "cell_type": "markdown",
   "id": "8ff0438d",
   "metadata": {},
   "source": [
    "# Conclusion"
   ]
  },
  {
   "cell_type": "markdown",
   "id": "7d4f2635",
   "metadata": {},
   "source": [
    "Firstly, we investigated the data. There was no missing values, but there was an outlier problem. Stats summary and plots helped us to understand the problem.\n",
    "\n",
    "Secondly, we discovered the stats(number of players, mean and median of played rounds) for each version group. \n",
    "\n",
    "Thirdly, we have calculated retention rates for each group. Gate 30 has higher retention rates.\n",
    "\n",
    "Gamerounds A/B Testing: Shapiro Testing rejected H0 for Normality assumption. Therefore we needed to apply a Non-parametric test as called Mann Whitney U to compare two groups. As a result, Mann Whitney U Testing rejected H0 hypothesis and we learned A/B groups are not similar!\n",
    "\n",
    "Retention A/B Testing: After applying Pearson's Chi square test we failed to reject H0, groups are simillar in terms of retention_1. But we rejected H0 for retention_7, groups are not simillar"
   ]
  }
 ],
 "metadata": {
  "kernelspec": {
   "display_name": "Python 3 (ipykernel)",
   "language": "python",
   "name": "python3"
  },
  "language_info": {
   "codemirror_mode": {
    "name": "ipython",
    "version": 3
   },
   "file_extension": ".py",
   "mimetype": "text/x-python",
   "name": "python",
   "nbconvert_exporter": "python",
   "pygments_lexer": "ipython3",
   "version": "3.9.12"
  }
 },
 "nbformat": 4,
 "nbformat_minor": 5
}
