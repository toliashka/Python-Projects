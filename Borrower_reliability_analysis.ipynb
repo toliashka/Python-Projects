{
 "cells": [
  {
   "cell_type": "markdown",
   "id": "a6d8c4e7",
   "metadata": {},
   "source": [
    "# Borrower reliability analysis\n",
    "Project Description\n",
    "The customer is the credit department of the bank. It is necessary to find out whether the marital status and the number of children of the client affect the fact of repaying the loan on time. Input data from the bank - statistics on the solvency of customers.\n",
    "\n",
    "The results of the study will be taken into account when building a credit scoring model - a special system that assesses the ability of a potential borrower to return a loan to a bank.\n",
    "\n",
    "Answer the questions\n",
    "\n",
    "Is there a relationship between having children and repaying a loan on time?\n",
    "\n",
    "Is there a relationship between marital status and loan repayment on time?\n",
    "\n",
    "Is there a relationship between income level and loan repayment on time?\n",
    "\n",
    "How do different purposes of a loan affect its repayment on time?"
   ]
  },
  {
   "cell_type": "code",
   "execution_count": 1,
   "id": "ef1ea1fd",
   "metadata": {},
   "outputs": [],
   "source": [
    "import pandas as pd"
   ]
  },
  {
   "cell_type": "code",
   "execution_count": 2,
   "id": "8d489d00",
   "metadata": {},
   "outputs": [],
   "source": [
    "data=pd.read_csv('data.csv')"
   ]
  },
  {
   "cell_type": "code",
   "execution_count": 3,
   "id": "8c1446d6",
   "metadata": {},
   "outputs": [
    {
     "data": {
      "text/html": [
       "<div>\n",
       "<style scoped>\n",
       "    .dataframe tbody tr th:only-of-type {\n",
       "        vertical-align: middle;\n",
       "    }\n",
       "\n",
       "    .dataframe tbody tr th {\n",
       "        vertical-align: top;\n",
       "    }\n",
       "\n",
       "    .dataframe thead th {\n",
       "        text-align: right;\n",
       "    }\n",
       "</style>\n",
       "<table border=\"1\" class=\"dataframe\">\n",
       "  <thead>\n",
       "    <tr style=\"text-align: right;\">\n",
       "      <th></th>\n",
       "      <th>children</th>\n",
       "      <th>days_employed</th>\n",
       "      <th>dob_years</th>\n",
       "      <th>education</th>\n",
       "      <th>education_id</th>\n",
       "      <th>family_status</th>\n",
       "      <th>family_status_id</th>\n",
       "      <th>gender</th>\n",
       "      <th>income_type</th>\n",
       "      <th>debt</th>\n",
       "      <th>total_income</th>\n",
       "      <th>purpose</th>\n",
       "    </tr>\n",
       "  </thead>\n",
       "  <tbody>\n",
       "    <tr>\n",
       "      <th>0</th>\n",
       "      <td>1</td>\n",
       "      <td>-8437.673028</td>\n",
       "      <td>42</td>\n",
       "      <td>высшее</td>\n",
       "      <td>0</td>\n",
       "      <td>женат / замужем</td>\n",
       "      <td>0</td>\n",
       "      <td>F</td>\n",
       "      <td>сотрудник</td>\n",
       "      <td>0</td>\n",
       "      <td>253875.639453</td>\n",
       "      <td>покупка жилья</td>\n",
       "    </tr>\n",
       "    <tr>\n",
       "      <th>1</th>\n",
       "      <td>1</td>\n",
       "      <td>-4024.803754</td>\n",
       "      <td>36</td>\n",
       "      <td>среднее</td>\n",
       "      <td>1</td>\n",
       "      <td>женат / замужем</td>\n",
       "      <td>0</td>\n",
       "      <td>F</td>\n",
       "      <td>сотрудник</td>\n",
       "      <td>0</td>\n",
       "      <td>112080.014102</td>\n",
       "      <td>приобретение автомобиля</td>\n",
       "    </tr>\n",
       "    <tr>\n",
       "      <th>2</th>\n",
       "      <td>0</td>\n",
       "      <td>-5623.422610</td>\n",
       "      <td>33</td>\n",
       "      <td>Среднее</td>\n",
       "      <td>1</td>\n",
       "      <td>женат / замужем</td>\n",
       "      <td>0</td>\n",
       "      <td>M</td>\n",
       "      <td>сотрудник</td>\n",
       "      <td>0</td>\n",
       "      <td>145885.952297</td>\n",
       "      <td>покупка жилья</td>\n",
       "    </tr>\n",
       "    <tr>\n",
       "      <th>3</th>\n",
       "      <td>3</td>\n",
       "      <td>-4124.747207</td>\n",
       "      <td>32</td>\n",
       "      <td>среднее</td>\n",
       "      <td>1</td>\n",
       "      <td>женат / замужем</td>\n",
       "      <td>0</td>\n",
       "      <td>M</td>\n",
       "      <td>сотрудник</td>\n",
       "      <td>0</td>\n",
       "      <td>267628.550329</td>\n",
       "      <td>дополнительное образование</td>\n",
       "    </tr>\n",
       "    <tr>\n",
       "      <th>4</th>\n",
       "      <td>0</td>\n",
       "      <td>340266.072047</td>\n",
       "      <td>53</td>\n",
       "      <td>среднее</td>\n",
       "      <td>1</td>\n",
       "      <td>гражданский брак</td>\n",
       "      <td>1</td>\n",
       "      <td>F</td>\n",
       "      <td>пенсионер</td>\n",
       "      <td>0</td>\n",
       "      <td>158616.077870</td>\n",
       "      <td>сыграть свадьбу</td>\n",
       "    </tr>\n",
       "  </tbody>\n",
       "</table>\n",
       "</div>"
      ],
      "text/plain": [
       "   children  days_employed  dob_years education  education_id  \\\n",
       "0         1   -8437.673028         42    высшее             0   \n",
       "1         1   -4024.803754         36   среднее             1   \n",
       "2         0   -5623.422610         33   Среднее             1   \n",
       "3         3   -4124.747207         32   среднее             1   \n",
       "4         0  340266.072047         53   среднее             1   \n",
       "\n",
       "      family_status  family_status_id gender income_type  debt   total_income  \\\n",
       "0   женат / замужем                 0      F   сотрудник     0  253875.639453   \n",
       "1   женат / замужем                 0      F   сотрудник     0  112080.014102   \n",
       "2   женат / замужем                 0      M   сотрудник     0  145885.952297   \n",
       "3   женат / замужем                 0      M   сотрудник     0  267628.550329   \n",
       "4  гражданский брак                 1      F   пенсионер     0  158616.077870   \n",
       "\n",
       "                      purpose  \n",
       "0               покупка жилья  \n",
       "1     приобретение автомобиля  \n",
       "2               покупка жилья  \n",
       "3  дополнительное образование  \n",
       "4             сыграть свадьбу  "
      ]
     },
     "execution_count": 3,
     "metadata": {},
     "output_type": "execute_result"
    }
   ],
   "source": [
    "data.head()"
   ]
  },
  {
   "cell_type": "markdown",
   "id": "5598c014",
   "metadata": {},
   "source": [
    "# Preprocessing data"
   ]
  },
  {
   "cell_type": "code",
   "execution_count": 4,
   "id": "7816dc0a",
   "metadata": {},
   "outputs": [
    {
     "name": "stdout",
     "output_type": "stream",
     "text": [
      "<class 'pandas.core.frame.DataFrame'>\n",
      "RangeIndex: 21525 entries, 0 to 21524\n",
      "Data columns (total 12 columns):\n",
      " #   Column            Non-Null Count  Dtype  \n",
      "---  ------            --------------  -----  \n",
      " 0   children          21525 non-null  int64  \n",
      " 1   days_employed     19351 non-null  float64\n",
      " 2   dob_years         21525 non-null  int64  \n",
      " 3   education         21525 non-null  object \n",
      " 4   education_id      21525 non-null  int64  \n",
      " 5   family_status     21525 non-null  object \n",
      " 6   family_status_id  21525 non-null  int64  \n",
      " 7   gender            21525 non-null  object \n",
      " 8   income_type       21525 non-null  object \n",
      " 9   debt              21525 non-null  int64  \n",
      " 10  total_income      19351 non-null  float64\n",
      " 11  purpose           21525 non-null  object \n",
      "dtypes: float64(2), int64(5), object(5)\n",
      "memory usage: 2.0+ MB\n"
     ]
    }
   ],
   "source": [
    "data.info()"
   ]
  },
  {
   "cell_type": "markdown",
   "id": "05d7d8f3",
   "metadata": {},
   "source": [
    "Columns 'days_employed' and 'total_income' have null values. Probably those people haven't worked yet because of the age. Or they have been working unofficially. Going to change those values to 0 cause other values may increase credit score which is not right. "
   ]
  },
  {
   "cell_type": "code",
   "execution_count": 5,
   "id": "acfc31b9",
   "metadata": {},
   "outputs": [],
   "source": [
    "data['days_employed'] = data['days_employed'].fillna(0)\n",
    "data['total_income'] = data['total_income'].fillna(0)"
   ]
  },
  {
   "cell_type": "code",
   "execution_count": 6,
   "id": "fb08eee5",
   "metadata": {},
   "outputs": [
    {
     "data": {
      "text/plain": [
       "children            0\n",
       "days_employed       0\n",
       "dob_years           0\n",
       "education           0\n",
       "education_id        0\n",
       "family_status       0\n",
       "family_status_id    0\n",
       "gender              0\n",
       "income_type         0\n",
       "debt                0\n",
       "total_income        0\n",
       "purpose             0\n",
       "dtype: int64"
      ]
     },
     "execution_count": 6,
     "metadata": {},
     "output_type": "execute_result"
    }
   ],
   "source": [
    "#checking\n",
    "data.isnull().sum()"
   ]
  },
  {
   "cell_type": "code",
   "execution_count": 7,
   "id": "6bd1c326",
   "metadata": {},
   "outputs": [
    {
     "data": {
      "text/plain": [
       "count     21525.000000\n",
       "mean      56678.874622\n",
       "std      134870.763085\n",
       "min      -18388.949901\n",
       "25%       -2518.168900\n",
       "50%        -982.531720\n",
       "75%           0.000000\n",
       "max      401755.400475\n",
       "Name: days_employed, dtype: float64"
      ]
     },
     "execution_count": 7,
     "metadata": {},
     "output_type": "execute_result"
    }
   ],
   "source": [
    "data['days_employed'].describe()"
   ]
  },
  {
   "cell_type": "markdown",
   "id": "cf28bc0f",
   "metadata": {},
   "source": [
    "Column 'days_employed' has negative values. Going to change it to absolute values and transform it to years(integer). Deleting the days employed column "
   ]
  },
  {
   "cell_type": "code",
   "execution_count": 8,
   "id": "e1e46f11",
   "metadata": {},
   "outputs": [],
   "source": [
    "data['days_employed'] = data['days_employed'].abs()\n",
    "data['years_employed']=data['days_employed']/365\n",
    "data['years_employed']=data['years_employed'].astype('int')"
   ]
  },
  {
   "cell_type": "code",
   "execution_count": 9,
   "id": "2c7a94b9",
   "metadata": {},
   "outputs": [],
   "source": [
    "del data['days_employed']"
   ]
  },
  {
   "cell_type": "markdown",
   "id": "ea57d8a2",
   "metadata": {},
   "source": [
    "Changing 'education' and 'family status' columns to low register so it would be easier to analyze"
   ]
  },
  {
   "cell_type": "code",
   "execution_count": 10,
   "id": "3baf1cda",
   "metadata": {},
   "outputs": [],
   "source": [
    "data['education']=data['education'].str.lower()\n",
    "data['family_status']=data['family_status'].str.lower()"
   ]
  },
  {
   "cell_type": "markdown",
   "id": "7f3ed541",
   "metadata": {},
   "source": [
    "Changing 'total income' column to 'int' data type to make easier analysis"
   ]
  },
  {
   "cell_type": "code",
   "execution_count": 11,
   "id": "f7e33d37",
   "metadata": {},
   "outputs": [],
   "source": [
    "data['total_income']=data['total_income'].astype('int')"
   ]
  },
  {
   "cell_type": "code",
   "execution_count": 12,
   "id": "df267e35",
   "metadata": {},
   "outputs": [
    {
     "data": {
      "text/html": [
       "<div>\n",
       "<style scoped>\n",
       "    .dataframe tbody tr th:only-of-type {\n",
       "        vertical-align: middle;\n",
       "    }\n",
       "\n",
       "    .dataframe tbody tr th {\n",
       "        vertical-align: top;\n",
       "    }\n",
       "\n",
       "    .dataframe thead th {\n",
       "        text-align: right;\n",
       "    }\n",
       "</style>\n",
       "<table border=\"1\" class=\"dataframe\">\n",
       "  <thead>\n",
       "    <tr style=\"text-align: right;\">\n",
       "      <th></th>\n",
       "      <th>children</th>\n",
       "      <th>dob_years</th>\n",
       "      <th>education</th>\n",
       "      <th>education_id</th>\n",
       "      <th>family_status</th>\n",
       "      <th>family_status_id</th>\n",
       "      <th>gender</th>\n",
       "      <th>income_type</th>\n",
       "      <th>debt</th>\n",
       "      <th>total_income</th>\n",
       "      <th>purpose</th>\n",
       "      <th>years_employed</th>\n",
       "    </tr>\n",
       "  </thead>\n",
       "  <tbody>\n",
       "    <tr>\n",
       "      <th>0</th>\n",
       "      <td>1</td>\n",
       "      <td>42</td>\n",
       "      <td>высшее</td>\n",
       "      <td>0</td>\n",
       "      <td>женат / замужем</td>\n",
       "      <td>0</td>\n",
       "      <td>F</td>\n",
       "      <td>сотрудник</td>\n",
       "      <td>0</td>\n",
       "      <td>253875</td>\n",
       "      <td>покупка жилья</td>\n",
       "      <td>23</td>\n",
       "    </tr>\n",
       "    <tr>\n",
       "      <th>1</th>\n",
       "      <td>1</td>\n",
       "      <td>36</td>\n",
       "      <td>среднее</td>\n",
       "      <td>1</td>\n",
       "      <td>женат / замужем</td>\n",
       "      <td>0</td>\n",
       "      <td>F</td>\n",
       "      <td>сотрудник</td>\n",
       "      <td>0</td>\n",
       "      <td>112080</td>\n",
       "      <td>приобретение автомобиля</td>\n",
       "      <td>11</td>\n",
       "    </tr>\n",
       "    <tr>\n",
       "      <th>2</th>\n",
       "      <td>0</td>\n",
       "      <td>33</td>\n",
       "      <td>среднее</td>\n",
       "      <td>1</td>\n",
       "      <td>женат / замужем</td>\n",
       "      <td>0</td>\n",
       "      <td>M</td>\n",
       "      <td>сотрудник</td>\n",
       "      <td>0</td>\n",
       "      <td>145885</td>\n",
       "      <td>покупка жилья</td>\n",
       "      <td>15</td>\n",
       "    </tr>\n",
       "    <tr>\n",
       "      <th>3</th>\n",
       "      <td>3</td>\n",
       "      <td>32</td>\n",
       "      <td>среднее</td>\n",
       "      <td>1</td>\n",
       "      <td>женат / замужем</td>\n",
       "      <td>0</td>\n",
       "      <td>M</td>\n",
       "      <td>сотрудник</td>\n",
       "      <td>0</td>\n",
       "      <td>267628</td>\n",
       "      <td>дополнительное образование</td>\n",
       "      <td>11</td>\n",
       "    </tr>\n",
       "    <tr>\n",
       "      <th>4</th>\n",
       "      <td>0</td>\n",
       "      <td>53</td>\n",
       "      <td>среднее</td>\n",
       "      <td>1</td>\n",
       "      <td>гражданский брак</td>\n",
       "      <td>1</td>\n",
       "      <td>F</td>\n",
       "      <td>пенсионер</td>\n",
       "      <td>0</td>\n",
       "      <td>158616</td>\n",
       "      <td>сыграть свадьбу</td>\n",
       "      <td>932</td>\n",
       "    </tr>\n",
       "  </tbody>\n",
       "</table>\n",
       "</div>"
      ],
      "text/plain": [
       "   children  dob_years education  education_id     family_status  \\\n",
       "0         1         42    высшее             0   женат / замужем   \n",
       "1         1         36   среднее             1   женат / замужем   \n",
       "2         0         33   среднее             1   женат / замужем   \n",
       "3         3         32   среднее             1   женат / замужем   \n",
       "4         0         53   среднее             1  гражданский брак   \n",
       "\n",
       "   family_status_id gender income_type  debt  total_income  \\\n",
       "0                 0      F   сотрудник     0        253875   \n",
       "1                 0      F   сотрудник     0        112080   \n",
       "2                 0      M   сотрудник     0        145885   \n",
       "3                 0      M   сотрудник     0        267628   \n",
       "4                 1      F   пенсионер     0        158616   \n",
       "\n",
       "                      purpose  years_employed  \n",
       "0               покупка жилья              23  \n",
       "1     приобретение автомобиля              11  \n",
       "2               покупка жилья              15  \n",
       "3  дополнительное образование              11  \n",
       "4             сыграть свадьбу             932  "
      ]
     },
     "execution_count": 12,
     "metadata": {},
     "output_type": "execute_result"
    }
   ],
   "source": [
    "data.head()"
   ]
  },
  {
   "cell_type": "code",
   "execution_count": 13,
   "id": "4d95a64d",
   "metadata": {},
   "outputs": [
    {
     "data": {
      "text/plain": [
       " 0     14149\n",
       " 1      4818\n",
       " 2      2055\n",
       " 3       330\n",
       " 20       76\n",
       "-1        47\n",
       " 4        41\n",
       " 5         9\n",
       "Name: children, dtype: int64"
      ]
     },
     "execution_count": 13,
     "metadata": {},
     "output_type": "execute_result"
    }
   ],
   "source": [
    "data['children'].value_counts()"
   ]
  },
  {
   "cell_type": "markdown",
   "id": "a7351c39",
   "metadata": {},
   "source": [
    "Filling mistake is observed. Going to change '-1' to '1' and '20' to '2'"
   ]
  },
  {
   "cell_type": "code",
   "execution_count": 14,
   "id": "59102818",
   "metadata": {},
   "outputs": [],
   "source": [
    "data['children'] = data['children'].replace(-1, 1)\n",
    "data['children'] = data['children'].replace(20, 2)"
   ]
  },
  {
   "cell_type": "code",
   "execution_count": 15,
   "id": "b76e97e2",
   "metadata": {},
   "outputs": [
    {
     "data": {
      "text/plain": [
       "0    14149\n",
       "1     4865\n",
       "2     2131\n",
       "3      330\n",
       "4       41\n",
       "5        9\n",
       "Name: children, dtype: int64"
      ]
     },
     "execution_count": 15,
     "metadata": {},
     "output_type": "execute_result"
    }
   ],
   "source": [
    "data['children'].value_counts()"
   ]
  },
  {
   "cell_type": "markdown",
   "id": "d67ae391",
   "metadata": {},
   "source": [
    "Now data looks quite clean. There are unreal values in 'years_employed' column, but we are not going to use these values in analysis. So no need to deal with it"
   ]
  },
  {
   "cell_type": "code",
   "execution_count": 16,
   "id": "61e0cb7d",
   "metadata": {},
   "outputs": [
    {
     "data": {
      "text/html": [
       "<div>\n",
       "<style scoped>\n",
       "    .dataframe tbody tr th:only-of-type {\n",
       "        vertical-align: middle;\n",
       "    }\n",
       "\n",
       "    .dataframe tbody tr th {\n",
       "        vertical-align: top;\n",
       "    }\n",
       "\n",
       "    .dataframe thead th {\n",
       "        text-align: right;\n",
       "    }\n",
       "</style>\n",
       "<table border=\"1\" class=\"dataframe\">\n",
       "  <thead>\n",
       "    <tr style=\"text-align: right;\">\n",
       "      <th></th>\n",
       "      <th>children</th>\n",
       "      <th>dob_years</th>\n",
       "      <th>education</th>\n",
       "      <th>education_id</th>\n",
       "      <th>family_status</th>\n",
       "      <th>family_status_id</th>\n",
       "      <th>gender</th>\n",
       "      <th>income_type</th>\n",
       "      <th>debt</th>\n",
       "      <th>total_income</th>\n",
       "      <th>purpose</th>\n",
       "      <th>years_employed</th>\n",
       "    </tr>\n",
       "  </thead>\n",
       "  <tbody>\n",
       "    <tr>\n",
       "      <th>0</th>\n",
       "      <td>1</td>\n",
       "      <td>42</td>\n",
       "      <td>высшее</td>\n",
       "      <td>0</td>\n",
       "      <td>женат / замужем</td>\n",
       "      <td>0</td>\n",
       "      <td>F</td>\n",
       "      <td>сотрудник</td>\n",
       "      <td>0</td>\n",
       "      <td>253875</td>\n",
       "      <td>покупка жилья</td>\n",
       "      <td>23</td>\n",
       "    </tr>\n",
       "    <tr>\n",
       "      <th>1</th>\n",
       "      <td>1</td>\n",
       "      <td>36</td>\n",
       "      <td>среднее</td>\n",
       "      <td>1</td>\n",
       "      <td>женат / замужем</td>\n",
       "      <td>0</td>\n",
       "      <td>F</td>\n",
       "      <td>сотрудник</td>\n",
       "      <td>0</td>\n",
       "      <td>112080</td>\n",
       "      <td>приобретение автомобиля</td>\n",
       "      <td>11</td>\n",
       "    </tr>\n",
       "    <tr>\n",
       "      <th>2</th>\n",
       "      <td>0</td>\n",
       "      <td>33</td>\n",
       "      <td>среднее</td>\n",
       "      <td>1</td>\n",
       "      <td>женат / замужем</td>\n",
       "      <td>0</td>\n",
       "      <td>M</td>\n",
       "      <td>сотрудник</td>\n",
       "      <td>0</td>\n",
       "      <td>145885</td>\n",
       "      <td>покупка жилья</td>\n",
       "      <td>15</td>\n",
       "    </tr>\n",
       "    <tr>\n",
       "      <th>3</th>\n",
       "      <td>3</td>\n",
       "      <td>32</td>\n",
       "      <td>среднее</td>\n",
       "      <td>1</td>\n",
       "      <td>женат / замужем</td>\n",
       "      <td>0</td>\n",
       "      <td>M</td>\n",
       "      <td>сотрудник</td>\n",
       "      <td>0</td>\n",
       "      <td>267628</td>\n",
       "      <td>дополнительное образование</td>\n",
       "      <td>11</td>\n",
       "    </tr>\n",
       "    <tr>\n",
       "      <th>4</th>\n",
       "      <td>0</td>\n",
       "      <td>53</td>\n",
       "      <td>среднее</td>\n",
       "      <td>1</td>\n",
       "      <td>гражданский брак</td>\n",
       "      <td>1</td>\n",
       "      <td>F</td>\n",
       "      <td>пенсионер</td>\n",
       "      <td>0</td>\n",
       "      <td>158616</td>\n",
       "      <td>сыграть свадьбу</td>\n",
       "      <td>932</td>\n",
       "    </tr>\n",
       "    <tr>\n",
       "      <th>5</th>\n",
       "      <td>0</td>\n",
       "      <td>27</td>\n",
       "      <td>высшее</td>\n",
       "      <td>0</td>\n",
       "      <td>гражданский брак</td>\n",
       "      <td>1</td>\n",
       "      <td>M</td>\n",
       "      <td>компаньон</td>\n",
       "      <td>0</td>\n",
       "      <td>255763</td>\n",
       "      <td>покупка жилья</td>\n",
       "      <td>2</td>\n",
       "    </tr>\n",
       "    <tr>\n",
       "      <th>6</th>\n",
       "      <td>0</td>\n",
       "      <td>43</td>\n",
       "      <td>высшее</td>\n",
       "      <td>0</td>\n",
       "      <td>женат / замужем</td>\n",
       "      <td>0</td>\n",
       "      <td>F</td>\n",
       "      <td>компаньон</td>\n",
       "      <td>0</td>\n",
       "      <td>240525</td>\n",
       "      <td>операции с жильем</td>\n",
       "      <td>7</td>\n",
       "    </tr>\n",
       "    <tr>\n",
       "      <th>7</th>\n",
       "      <td>0</td>\n",
       "      <td>50</td>\n",
       "      <td>среднее</td>\n",
       "      <td>1</td>\n",
       "      <td>женат / замужем</td>\n",
       "      <td>0</td>\n",
       "      <td>M</td>\n",
       "      <td>сотрудник</td>\n",
       "      <td>0</td>\n",
       "      <td>135823</td>\n",
       "      <td>образование</td>\n",
       "      <td>0</td>\n",
       "    </tr>\n",
       "    <tr>\n",
       "      <th>8</th>\n",
       "      <td>2</td>\n",
       "      <td>35</td>\n",
       "      <td>высшее</td>\n",
       "      <td>0</td>\n",
       "      <td>гражданский брак</td>\n",
       "      <td>1</td>\n",
       "      <td>F</td>\n",
       "      <td>сотрудник</td>\n",
       "      <td>0</td>\n",
       "      <td>95856</td>\n",
       "      <td>на проведение свадьбы</td>\n",
       "      <td>18</td>\n",
       "    </tr>\n",
       "    <tr>\n",
       "      <th>9</th>\n",
       "      <td>0</td>\n",
       "      <td>41</td>\n",
       "      <td>среднее</td>\n",
       "      <td>1</td>\n",
       "      <td>женат / замужем</td>\n",
       "      <td>0</td>\n",
       "      <td>M</td>\n",
       "      <td>сотрудник</td>\n",
       "      <td>0</td>\n",
       "      <td>144425</td>\n",
       "      <td>покупка жилья для семьи</td>\n",
       "      <td>5</td>\n",
       "    </tr>\n",
       "  </tbody>\n",
       "</table>\n",
       "</div>"
      ],
      "text/plain": [
       "   children  dob_years education  education_id     family_status  \\\n",
       "0         1         42    высшее             0   женат / замужем   \n",
       "1         1         36   среднее             1   женат / замужем   \n",
       "2         0         33   среднее             1   женат / замужем   \n",
       "3         3         32   среднее             1   женат / замужем   \n",
       "4         0         53   среднее             1  гражданский брак   \n",
       "5         0         27    высшее             0  гражданский брак   \n",
       "6         0         43    высшее             0   женат / замужем   \n",
       "7         0         50   среднее             1   женат / замужем   \n",
       "8         2         35    высшее             0  гражданский брак   \n",
       "9         0         41   среднее             1   женат / замужем   \n",
       "\n",
       "   family_status_id gender income_type  debt  total_income  \\\n",
       "0                 0      F   сотрудник     0        253875   \n",
       "1                 0      F   сотрудник     0        112080   \n",
       "2                 0      M   сотрудник     0        145885   \n",
       "3                 0      M   сотрудник     0        267628   \n",
       "4                 1      F   пенсионер     0        158616   \n",
       "5                 1      M   компаньон     0        255763   \n",
       "6                 0      F   компаньон     0        240525   \n",
       "7                 0      M   сотрудник     0        135823   \n",
       "8                 1      F   сотрудник     0         95856   \n",
       "9                 0      M   сотрудник     0        144425   \n",
       "\n",
       "                      purpose  years_employed  \n",
       "0               покупка жилья              23  \n",
       "1     приобретение автомобиля              11  \n",
       "2               покупка жилья              15  \n",
       "3  дополнительное образование              11  \n",
       "4             сыграть свадьбу             932  \n",
       "5               покупка жилья               2  \n",
       "6           операции с жильем               7  \n",
       "7                 образование               0  \n",
       "8       на проведение свадьбы              18  \n",
       "9     покупка жилья для семьи               5  "
      ]
     },
     "execution_count": 16,
     "metadata": {},
     "output_type": "execute_result"
    }
   ],
   "source": [
    "data.head(10)"
   ]
  },
  {
   "cell_type": "markdown",
   "id": "027d7ebf",
   "metadata": {},
   "source": [
    "# Dropping Duplicates"
   ]
  },
  {
   "cell_type": "code",
   "execution_count": 17,
   "id": "25ed78a5",
   "metadata": {},
   "outputs": [
    {
     "data": {
      "text/plain": [
       "71"
      ]
     },
     "execution_count": 17,
     "metadata": {},
     "output_type": "execute_result"
    }
   ],
   "source": [
    "data.duplicated().sum()"
   ]
  },
  {
   "cell_type": "code",
   "execution_count": 18,
   "id": "53b8188a",
   "metadata": {},
   "outputs": [],
   "source": [
    "data=data.drop_duplicates().reset_index(drop=True)"
   ]
  },
  {
   "cell_type": "code",
   "execution_count": 19,
   "id": "7b4e4e8b",
   "metadata": {},
   "outputs": [
    {
     "data": {
      "text/plain": [
       "0"
      ]
     },
     "execution_count": 19,
     "metadata": {},
     "output_type": "execute_result"
    }
   ],
   "source": [
    "data.duplicated().sum()"
   ]
  },
  {
   "cell_type": "markdown",
   "id": "454606d1",
   "metadata": {},
   "source": [
    "# Lemmatization of 'purpose' column"
   ]
  },
  {
   "cell_type": "code",
   "execution_count": 20,
   "id": "863dd3b0",
   "metadata": {},
   "outputs": [],
   "source": [
    "from pymystem3 import Mystem\n",
    "m=Mystem()"
   ]
  },
  {
   "cell_type": "code",
   "execution_count": 21,
   "id": "d6c54a19",
   "metadata": {},
   "outputs": [],
   "source": [
    "purposes = data['purpose'].unique().tolist()"
   ]
  },
  {
   "cell_type": "code",
   "execution_count": 22,
   "id": "4eef5332",
   "metadata": {},
   "outputs": [],
   "source": [
    "lemmas='; '.join(purposes)"
   ]
  },
  {
   "cell_type": "code",
   "execution_count": 23,
   "id": "45bd5ea7",
   "metadata": {},
   "outputs": [],
   "source": [
    "lemmas_f=m.lemmatize(lemmas)"
   ]
  },
  {
   "cell_type": "code",
   "execution_count": 24,
   "id": "d98f2950",
   "metadata": {},
   "outputs": [
    {
     "name": "stdout",
     "output_type": "stream",
     "text": [
      "['покупка', ' ', 'жилье', '; ', 'приобретение', ' ', 'автомобиль', '; ', 'дополнительный', ' ', 'образование', '; ', 'сыграть', ' ', 'свадьба', '; ', 'операция', ' ', 'с', ' ', 'жилье', '; ', 'образование', '; ', 'на', ' ', 'проведение', ' ', 'свадьба', '; ', 'покупка', ' ', 'жилье', ' ', 'для', ' ', 'семья', '; ', 'покупка', ' ', 'недвижимость', '; ', 'покупка', ' ', 'коммерческий', ' ', 'недвижимость', '; ', 'покупка', ' ', 'жилой', ' ', 'недвижимость', '; ', 'строительство', ' ', 'собственный', ' ', 'недвижимость', '; ', 'недвижимость', '; ', 'строительство', ' ', 'недвижимость', '; ', 'на', ' ', 'покупка', ' ', 'подержать', ' ', 'автомобиль', '; ', 'на', ' ', 'покупка', ' ', 'свой', ' ', 'автомобиль', '; ', 'операция', ' ', 'с', ' ', 'коммерческий', ' ', 'недвижимость', '; ', 'строительство', ' ', 'жилой', ' ', 'недвижимость', '; ', 'жилье', '; ', 'операция', ' ', 'со', ' ', 'свой', ' ', 'недвижимость', '; ', 'автомобиль', '; ', 'заниматься', ' ', 'образование', '; ', 'сделка', ' ', 'с', ' ', 'подержать', ' ', 'автомобиль', '; ', 'получение', ' ', 'образование', '; ', 'автомобиль', '; ', 'свадьба', '; ', 'получение', ' ', 'дополнительный', ' ', 'образование', '; ', 'покупка', ' ', 'свой', ' ', 'жилье', '; ', 'операция', ' ', 'с', ' ', 'недвижимость', '; ', 'получение', ' ', 'высокий', ' ', 'образование', '; ', 'свой', ' ', 'автомобиль', '; ', 'сделка', ' ', 'с', ' ', 'автомобиль', '; ', 'профильный', ' ', 'образование', '; ', 'высокий', ' ', 'образование', '; ', 'покупка', ' ', 'жилье', ' ', 'для', ' ', 'сдача', '; ', 'на', ' ', 'покупка', ' ', 'автомобиль', '; ', 'ремонт', ' ', 'жилье', '; ', 'заниматься', ' ', 'высокий', ' ', 'образование', '\\n']\n"
     ]
    }
   ],
   "source": [
    "print(lemmas_f)"
   ]
  },
  {
   "cell_type": "code",
   "execution_count": 25,
   "id": "3953feb3",
   "metadata": {},
   "outputs": [
    {
     "name": "stdout",
     "output_type": "stream",
     "text": [
      "Counter({' ': 59, '; ': 37, 'покупка': 10, 'недвижимость': 10, 'автомобиль': 9, 'образование': 9, 'жилье': 7, 'с': 5, 'операция': 4, 'на': 4, 'свой': 4, 'свадьба': 3, 'строительство': 3, 'получение': 3, 'высокий': 3, 'дополнительный': 2, 'для': 2, 'коммерческий': 2, 'жилой': 2, 'подержать': 2, 'заниматься': 2, 'сделка': 2, 'приобретение': 1, 'сыграть': 1, 'проведение': 1, 'семья': 1, 'собственный': 1, 'со': 1, 'профильный': 1, 'сдача': 1, 'ремонт': 1, '\\n': 1})\n"
     ]
    }
   ],
   "source": [
    "from collections import Counter\n",
    "print(Counter(lemmas_f)) "
   ]
  },
  {
   "cell_type": "markdown",
   "id": "5afaf0c9",
   "metadata": {},
   "source": [
    "## Is there a relationship between having children and repaying a loan on time?"
   ]
  },
  {
   "cell_type": "code",
   "execution_count": 26,
   "id": "27b63016",
   "metadata": {},
   "outputs": [
    {
     "data": {
      "text/html": [
       "<div>\n",
       "<style scoped>\n",
       "    .dataframe tbody tr th:only-of-type {\n",
       "        vertical-align: middle;\n",
       "    }\n",
       "\n",
       "    .dataframe tbody tr th {\n",
       "        vertical-align: top;\n",
       "    }\n",
       "\n",
       "    .dataframe thead th {\n",
       "        text-align: right;\n",
       "    }\n",
       "</style>\n",
       "<table border=\"1\" class=\"dataframe\">\n",
       "  <thead>\n",
       "    <tr style=\"text-align: right;\">\n",
       "      <th></th>\n",
       "      <th>children</th>\n",
       "      <th>dob_years</th>\n",
       "      <th>education</th>\n",
       "      <th>education_id</th>\n",
       "      <th>family_status</th>\n",
       "      <th>family_status_id</th>\n",
       "      <th>gender</th>\n",
       "      <th>income_type</th>\n",
       "      <th>debt</th>\n",
       "      <th>total_income</th>\n",
       "      <th>purpose</th>\n",
       "      <th>years_employed</th>\n",
       "    </tr>\n",
       "  </thead>\n",
       "  <tbody>\n",
       "    <tr>\n",
       "      <th>0</th>\n",
       "      <td>1</td>\n",
       "      <td>42</td>\n",
       "      <td>высшее</td>\n",
       "      <td>0</td>\n",
       "      <td>женат / замужем</td>\n",
       "      <td>0</td>\n",
       "      <td>F</td>\n",
       "      <td>сотрудник</td>\n",
       "      <td>0</td>\n",
       "      <td>253875</td>\n",
       "      <td>покупка жилья</td>\n",
       "      <td>23</td>\n",
       "    </tr>\n",
       "    <tr>\n",
       "      <th>1</th>\n",
       "      <td>1</td>\n",
       "      <td>36</td>\n",
       "      <td>среднее</td>\n",
       "      <td>1</td>\n",
       "      <td>женат / замужем</td>\n",
       "      <td>0</td>\n",
       "      <td>F</td>\n",
       "      <td>сотрудник</td>\n",
       "      <td>0</td>\n",
       "      <td>112080</td>\n",
       "      <td>приобретение автомобиля</td>\n",
       "      <td>11</td>\n",
       "    </tr>\n",
       "    <tr>\n",
       "      <th>2</th>\n",
       "      <td>0</td>\n",
       "      <td>33</td>\n",
       "      <td>среднее</td>\n",
       "      <td>1</td>\n",
       "      <td>женат / замужем</td>\n",
       "      <td>0</td>\n",
       "      <td>M</td>\n",
       "      <td>сотрудник</td>\n",
       "      <td>0</td>\n",
       "      <td>145885</td>\n",
       "      <td>покупка жилья</td>\n",
       "      <td>15</td>\n",
       "    </tr>\n",
       "    <tr>\n",
       "      <th>3</th>\n",
       "      <td>3</td>\n",
       "      <td>32</td>\n",
       "      <td>среднее</td>\n",
       "      <td>1</td>\n",
       "      <td>женат / замужем</td>\n",
       "      <td>0</td>\n",
       "      <td>M</td>\n",
       "      <td>сотрудник</td>\n",
       "      <td>0</td>\n",
       "      <td>267628</td>\n",
       "      <td>дополнительное образование</td>\n",
       "      <td>11</td>\n",
       "    </tr>\n",
       "    <tr>\n",
       "      <th>4</th>\n",
       "      <td>0</td>\n",
       "      <td>53</td>\n",
       "      <td>среднее</td>\n",
       "      <td>1</td>\n",
       "      <td>гражданский брак</td>\n",
       "      <td>1</td>\n",
       "      <td>F</td>\n",
       "      <td>пенсионер</td>\n",
       "      <td>0</td>\n",
       "      <td>158616</td>\n",
       "      <td>сыграть свадьбу</td>\n",
       "      <td>932</td>\n",
       "    </tr>\n",
       "  </tbody>\n",
       "</table>\n",
       "</div>"
      ],
      "text/plain": [
       "   children  dob_years education  education_id     family_status  \\\n",
       "0         1         42    высшее             0   женат / замужем   \n",
       "1         1         36   среднее             1   женат / замужем   \n",
       "2         0         33   среднее             1   женат / замужем   \n",
       "3         3         32   среднее             1   женат / замужем   \n",
       "4         0         53   среднее             1  гражданский брак   \n",
       "\n",
       "   family_status_id gender income_type  debt  total_income  \\\n",
       "0                 0      F   сотрудник     0        253875   \n",
       "1                 0      F   сотрудник     0        112080   \n",
       "2                 0      M   сотрудник     0        145885   \n",
       "3                 0      M   сотрудник     0        267628   \n",
       "4                 1      F   пенсионер     0        158616   \n",
       "\n",
       "                      purpose  years_employed  \n",
       "0               покупка жилья              23  \n",
       "1     приобретение автомобиля              11  \n",
       "2               покупка жилья              15  \n",
       "3  дополнительное образование              11  \n",
       "4             сыграть свадьбу             932  "
      ]
     },
     "execution_count": 26,
     "metadata": {},
     "output_type": "execute_result"
    }
   ],
   "source": [
    "data.head()"
   ]
  },
  {
   "cell_type": "code",
   "execution_count": 27,
   "id": "ebe6820e",
   "metadata": {},
   "outputs": [],
   "source": [
    "children_pivot=data.pivot_table(index='children', columns='debt', values='purpose', aggfunc='count')"
   ]
  },
  {
   "cell_type": "code",
   "execution_count": 28,
   "id": "f7273611",
   "metadata": {
    "scrolled": true
   },
   "outputs": [
    {
     "name": "stdout",
     "output_type": "stream",
     "text": [
      "debt            0       1\n",
      "children                 \n",
      "0         13028.0  1063.0\n",
      "1          4410.0   445.0\n",
      "2          1926.0   202.0\n",
      "3           303.0    27.0\n",
      "4            37.0     4.0\n",
      "5             9.0     NaN\n"
     ]
    }
   ],
   "source": [
    "print(children_pivot)"
   ]
  },
  {
   "cell_type": "code",
   "execution_count": 29,
   "id": "e3030592",
   "metadata": {},
   "outputs": [],
   "source": [
    "children_pivot['ratio']=children_pivot[1]/children_pivot[0]"
   ]
  },
  {
   "cell_type": "code",
   "execution_count": 30,
   "id": "08290831",
   "metadata": {},
   "outputs": [
    {
     "name": "stdout",
     "output_type": "stream",
     "text": [
      "debt            0       1     ratio\n",
      "children                           \n",
      "0         13028.0  1063.0  0.081593\n",
      "1          4410.0   445.0  0.100907\n",
      "2          1926.0   202.0  0.104881\n",
      "3           303.0    27.0  0.089109\n",
      "4            37.0     4.0  0.108108\n",
      "5             9.0     NaN       NaN\n"
     ]
    }
   ],
   "source": [
    "print(children_pivot)"
   ]
  },
  {
   "cell_type": "markdown",
   "id": "b3cb6630",
   "metadata": {},
   "source": [
    "## Is there a relationship between marital status and loan repayment on time?"
   ]
  },
  {
   "cell_type": "code",
   "execution_count": 31,
   "id": "552fd4e3",
   "metadata": {},
   "outputs": [],
   "source": [
    "family_pivot=data.pivot_table(index='family_status', columns='debt', values='purpose', aggfunc='count')"
   ]
  },
  {
   "cell_type": "code",
   "execution_count": 32,
   "id": "ae92ae50",
   "metadata": {},
   "outputs": [
    {
     "name": "stdout",
     "output_type": "stream",
     "text": [
      "debt                       0    1\n",
      "family_status                    \n",
      "в разводе               1110   85\n",
      "вдовец / вдова           896   63\n",
      "гражданский брак        3763  388\n",
      "женат / замужем        11408  931\n",
      "не женат / не замужем   2536  274\n"
     ]
    }
   ],
   "source": [
    "print(family_pivot)"
   ]
  },
  {
   "cell_type": "code",
   "execution_count": 33,
   "id": "c763ca19",
   "metadata": {},
   "outputs": [],
   "source": [
    "family_pivot['ratio']=family_pivot[1]/family_pivot[0]"
   ]
  },
  {
   "cell_type": "code",
   "execution_count": 34,
   "id": "a4669064",
   "metadata": {},
   "outputs": [
    {
     "name": "stdout",
     "output_type": "stream",
     "text": [
      "debt                       0    1     ratio\n",
      "family_status                              \n",
      "в разводе               1110   85  0.076577\n",
      "вдовец / вдова           896   63  0.070312\n",
      "гражданский брак        3763  388  0.103109\n",
      "женат / замужем        11408  931  0.081609\n",
      "не женат / не замужем   2536  274  0.108044\n"
     ]
    }
   ],
   "source": [
    "print(family_pivot)"
   ]
  },
  {
   "cell_type": "markdown",
   "id": "7d83c6e1",
   "metadata": {},
   "source": [
    "## Is there a relationship between income level and loan repayment on time?"
   ]
  },
  {
   "cell_type": "code",
   "execution_count": 35,
   "id": "b71a0c83",
   "metadata": {},
   "outputs": [
    {
     "data": {
      "text/html": [
       "<div>\n",
       "<style scoped>\n",
       "    .dataframe tbody tr th:only-of-type {\n",
       "        vertical-align: middle;\n",
       "    }\n",
       "\n",
       "    .dataframe tbody tr th {\n",
       "        vertical-align: top;\n",
       "    }\n",
       "\n",
       "    .dataframe thead th {\n",
       "        text-align: right;\n",
       "    }\n",
       "</style>\n",
       "<table border=\"1\" class=\"dataframe\">\n",
       "  <thead>\n",
       "    <tr style=\"text-align: right;\">\n",
       "      <th></th>\n",
       "      <th>children</th>\n",
       "      <th>dob_years</th>\n",
       "      <th>education</th>\n",
       "      <th>education_id</th>\n",
       "      <th>family_status</th>\n",
       "      <th>family_status_id</th>\n",
       "      <th>gender</th>\n",
       "      <th>income_type</th>\n",
       "      <th>debt</th>\n",
       "      <th>total_income</th>\n",
       "      <th>purpose</th>\n",
       "      <th>years_employed</th>\n",
       "    </tr>\n",
       "  </thead>\n",
       "  <tbody>\n",
       "    <tr>\n",
       "      <th>0</th>\n",
       "      <td>1</td>\n",
       "      <td>42</td>\n",
       "      <td>высшее</td>\n",
       "      <td>0</td>\n",
       "      <td>женат / замужем</td>\n",
       "      <td>0</td>\n",
       "      <td>F</td>\n",
       "      <td>сотрудник</td>\n",
       "      <td>0</td>\n",
       "      <td>253875</td>\n",
       "      <td>покупка жилья</td>\n",
       "      <td>23</td>\n",
       "    </tr>\n",
       "    <tr>\n",
       "      <th>1</th>\n",
       "      <td>1</td>\n",
       "      <td>36</td>\n",
       "      <td>среднее</td>\n",
       "      <td>1</td>\n",
       "      <td>женат / замужем</td>\n",
       "      <td>0</td>\n",
       "      <td>F</td>\n",
       "      <td>сотрудник</td>\n",
       "      <td>0</td>\n",
       "      <td>112080</td>\n",
       "      <td>приобретение автомобиля</td>\n",
       "      <td>11</td>\n",
       "    </tr>\n",
       "    <tr>\n",
       "      <th>2</th>\n",
       "      <td>0</td>\n",
       "      <td>33</td>\n",
       "      <td>среднее</td>\n",
       "      <td>1</td>\n",
       "      <td>женат / замужем</td>\n",
       "      <td>0</td>\n",
       "      <td>M</td>\n",
       "      <td>сотрудник</td>\n",
       "      <td>0</td>\n",
       "      <td>145885</td>\n",
       "      <td>покупка жилья</td>\n",
       "      <td>15</td>\n",
       "    </tr>\n",
       "    <tr>\n",
       "      <th>3</th>\n",
       "      <td>3</td>\n",
       "      <td>32</td>\n",
       "      <td>среднее</td>\n",
       "      <td>1</td>\n",
       "      <td>женат / замужем</td>\n",
       "      <td>0</td>\n",
       "      <td>M</td>\n",
       "      <td>сотрудник</td>\n",
       "      <td>0</td>\n",
       "      <td>267628</td>\n",
       "      <td>дополнительное образование</td>\n",
       "      <td>11</td>\n",
       "    </tr>\n",
       "    <tr>\n",
       "      <th>4</th>\n",
       "      <td>0</td>\n",
       "      <td>53</td>\n",
       "      <td>среднее</td>\n",
       "      <td>1</td>\n",
       "      <td>гражданский брак</td>\n",
       "      <td>1</td>\n",
       "      <td>F</td>\n",
       "      <td>пенсионер</td>\n",
       "      <td>0</td>\n",
       "      <td>158616</td>\n",
       "      <td>сыграть свадьбу</td>\n",
       "      <td>932</td>\n",
       "    </tr>\n",
       "  </tbody>\n",
       "</table>\n",
       "</div>"
      ],
      "text/plain": [
       "   children  dob_years education  education_id     family_status  \\\n",
       "0         1         42    высшее             0   женат / замужем   \n",
       "1         1         36   среднее             1   женат / замужем   \n",
       "2         0         33   среднее             1   женат / замужем   \n",
       "3         3         32   среднее             1   женат / замужем   \n",
       "4         0         53   среднее             1  гражданский брак   \n",
       "\n",
       "   family_status_id gender income_type  debt  total_income  \\\n",
       "0                 0      F   сотрудник     0        253875   \n",
       "1                 0      F   сотрудник     0        112080   \n",
       "2                 0      M   сотрудник     0        145885   \n",
       "3                 0      M   сотрудник     0        267628   \n",
       "4                 1      F   пенсионер     0        158616   \n",
       "\n",
       "                      purpose  years_employed  \n",
       "0               покупка жилья              23  \n",
       "1     приобретение автомобиля              11  \n",
       "2               покупка жилья              15  \n",
       "3  дополнительное образование              11  \n",
       "4             сыграть свадьбу             932  "
      ]
     },
     "execution_count": 35,
     "metadata": {},
     "output_type": "execute_result"
    }
   ],
   "source": [
    "data.head()"
   ]
  },
  {
   "cell_type": "code",
   "execution_count": 36,
   "id": "e3cff1bf",
   "metadata": {},
   "outputs": [
    {
     "data": {
      "text/plain": [
       "0.25     89088.50\n",
       "0.50    135781.00\n",
       "0.75    195813.25\n",
       "Name: total_income, dtype: float64"
      ]
     },
     "execution_count": 36,
     "metadata": {},
     "output_type": "execute_result"
    }
   ],
   "source": [
    "data['total_income'].quantile([0.25,0.5,0.75])"
   ]
  },
  {
   "cell_type": "code",
   "execution_count": 37,
   "id": "0a351fb5",
   "metadata": {},
   "outputs": [],
   "source": [
    "def income_type(total_income):\n",
    "    if total_income<=89088.5:\n",
    "        return 'Низкий'\n",
    "    if total_income<=135781:\n",
    "        return 'Средний'\n",
    "    if total_income<=195813.25:\n",
    "        return 'Высокий'\n",
    "    return 'Сверхвысокий'\n",
    "    "
   ]
  },
  {
   "cell_type": "code",
   "execution_count": 38,
   "id": "dc696a31",
   "metadata": {},
   "outputs": [],
   "source": [
    "data['income_type']=data['total_income'].apply(income_type)"
   ]
  },
  {
   "cell_type": "code",
   "execution_count": 39,
   "id": "87bb209b",
   "metadata": {},
   "outputs": [
    {
     "data": {
      "text/html": [
       "<div>\n",
       "<style scoped>\n",
       "    .dataframe tbody tr th:only-of-type {\n",
       "        vertical-align: middle;\n",
       "    }\n",
       "\n",
       "    .dataframe tbody tr th {\n",
       "        vertical-align: top;\n",
       "    }\n",
       "\n",
       "    .dataframe thead th {\n",
       "        text-align: right;\n",
       "    }\n",
       "</style>\n",
       "<table border=\"1\" class=\"dataframe\">\n",
       "  <thead>\n",
       "    <tr style=\"text-align: right;\">\n",
       "      <th></th>\n",
       "      <th>children</th>\n",
       "      <th>dob_years</th>\n",
       "      <th>education</th>\n",
       "      <th>education_id</th>\n",
       "      <th>family_status</th>\n",
       "      <th>family_status_id</th>\n",
       "      <th>gender</th>\n",
       "      <th>income_type</th>\n",
       "      <th>debt</th>\n",
       "      <th>total_income</th>\n",
       "      <th>purpose</th>\n",
       "      <th>years_employed</th>\n",
       "    </tr>\n",
       "  </thead>\n",
       "  <tbody>\n",
       "    <tr>\n",
       "      <th>0</th>\n",
       "      <td>1</td>\n",
       "      <td>42</td>\n",
       "      <td>высшее</td>\n",
       "      <td>0</td>\n",
       "      <td>женат / замужем</td>\n",
       "      <td>0</td>\n",
       "      <td>F</td>\n",
       "      <td>Сверхвысокий</td>\n",
       "      <td>0</td>\n",
       "      <td>253875</td>\n",
       "      <td>покупка жилья</td>\n",
       "      <td>23</td>\n",
       "    </tr>\n",
       "    <tr>\n",
       "      <th>1</th>\n",
       "      <td>1</td>\n",
       "      <td>36</td>\n",
       "      <td>среднее</td>\n",
       "      <td>1</td>\n",
       "      <td>женат / замужем</td>\n",
       "      <td>0</td>\n",
       "      <td>F</td>\n",
       "      <td>Средний</td>\n",
       "      <td>0</td>\n",
       "      <td>112080</td>\n",
       "      <td>приобретение автомобиля</td>\n",
       "      <td>11</td>\n",
       "    </tr>\n",
       "    <tr>\n",
       "      <th>2</th>\n",
       "      <td>0</td>\n",
       "      <td>33</td>\n",
       "      <td>среднее</td>\n",
       "      <td>1</td>\n",
       "      <td>женат / замужем</td>\n",
       "      <td>0</td>\n",
       "      <td>M</td>\n",
       "      <td>Высокий</td>\n",
       "      <td>0</td>\n",
       "      <td>145885</td>\n",
       "      <td>покупка жилья</td>\n",
       "      <td>15</td>\n",
       "    </tr>\n",
       "    <tr>\n",
       "      <th>3</th>\n",
       "      <td>3</td>\n",
       "      <td>32</td>\n",
       "      <td>среднее</td>\n",
       "      <td>1</td>\n",
       "      <td>женат / замужем</td>\n",
       "      <td>0</td>\n",
       "      <td>M</td>\n",
       "      <td>Сверхвысокий</td>\n",
       "      <td>0</td>\n",
       "      <td>267628</td>\n",
       "      <td>дополнительное образование</td>\n",
       "      <td>11</td>\n",
       "    </tr>\n",
       "    <tr>\n",
       "      <th>4</th>\n",
       "      <td>0</td>\n",
       "      <td>53</td>\n",
       "      <td>среднее</td>\n",
       "      <td>1</td>\n",
       "      <td>гражданский брак</td>\n",
       "      <td>1</td>\n",
       "      <td>F</td>\n",
       "      <td>Высокий</td>\n",
       "      <td>0</td>\n",
       "      <td>158616</td>\n",
       "      <td>сыграть свадьбу</td>\n",
       "      <td>932</td>\n",
       "    </tr>\n",
       "  </tbody>\n",
       "</table>\n",
       "</div>"
      ],
      "text/plain": [
       "   children  dob_years education  education_id     family_status  \\\n",
       "0         1         42    высшее             0   женат / замужем   \n",
       "1         1         36   среднее             1   женат / замужем   \n",
       "2         0         33   среднее             1   женат / замужем   \n",
       "3         3         32   среднее             1   женат / замужем   \n",
       "4         0         53   среднее             1  гражданский брак   \n",
       "\n",
       "   family_status_id gender   income_type  debt  total_income  \\\n",
       "0                 0      F  Сверхвысокий     0        253875   \n",
       "1                 0      F       Средний     0        112080   \n",
       "2                 0      M       Высокий     0        145885   \n",
       "3                 0      M  Сверхвысокий     0        267628   \n",
       "4                 1      F       Высокий     0        158616   \n",
       "\n",
       "                      purpose  years_employed  \n",
       "0               покупка жилья              23  \n",
       "1     приобретение автомобиля              11  \n",
       "2               покупка жилья              15  \n",
       "3  дополнительное образование              11  \n",
       "4             сыграть свадьбу             932  "
      ]
     },
     "execution_count": 39,
     "metadata": {},
     "output_type": "execute_result"
    }
   ],
   "source": [
    "data.head()"
   ]
  },
  {
   "cell_type": "code",
   "execution_count": 40,
   "id": "ee3c0a1c",
   "metadata": {},
   "outputs": [],
   "source": [
    "income_pivot=data.pivot_table(index='income_type', columns='debt', values='purpose', aggfunc='count')"
   ]
  },
  {
   "cell_type": "code",
   "execution_count": 41,
   "id": "bae49435",
   "metadata": {},
   "outputs": [
    {
     "name": "stdout",
     "output_type": "stream",
     "text": [
      "debt             0    1\n",
      "income_type            \n",
      "Высокий       4882  481\n",
      "Низкий        4945  419\n",
      "Сверхвысокий  4981  383\n",
      "Средний       4905  458\n"
     ]
    }
   ],
   "source": [
    "print(income_pivot)"
   ]
  },
  {
   "cell_type": "code",
   "execution_count": 42,
   "id": "e22b9d12",
   "metadata": {},
   "outputs": [],
   "source": [
    "income_pivot['ratio']=income_pivot[1]/income_pivot[0]"
   ]
  },
  {
   "cell_type": "code",
   "execution_count": 43,
   "id": "e446afa8",
   "metadata": {},
   "outputs": [
    {
     "name": "stdout",
     "output_type": "stream",
     "text": [
      "debt             0    1     ratio\n",
      "income_type                      \n",
      "Высокий       4882  481  0.098525\n",
      "Низкий        4945  419  0.084732\n",
      "Сверхвысокий  4981  383  0.076892\n",
      "Средний       4905  458  0.093374\n"
     ]
    }
   ],
   "source": [
    "print(income_pivot)"
   ]
  },
  {
   "cell_type": "markdown",
   "id": "baba6154",
   "metadata": {},
   "source": [
    "## How do different purposes of a loan affect its repayment on time?"
   ]
  },
  {
   "cell_type": "code",
   "execution_count": 44,
   "id": "7a95bd7e",
   "metadata": {},
   "outputs": [],
   "source": [
    "def purpose_type(purpose):\n",
    "    if 'образован' in purpose:\n",
    "        return 'Образование'\n",
    "    if 'авто' in purpose:\n",
    "        return 'Автомобиль'\n",
    "    if 'свадьб' in purpose:\n",
    "        return 'Свадьба'\n",
    "    return 'Недвижимость'"
   ]
  },
  {
   "cell_type": "code",
   "execution_count": 45,
   "id": "8455c94a",
   "metadata": {},
   "outputs": [],
   "source": [
    "data['purpose_type']=data['purpose'].apply(purpose_type)"
   ]
  },
  {
   "cell_type": "code",
   "execution_count": 46,
   "id": "a7ddc3d2",
   "metadata": {},
   "outputs": [
    {
     "data": {
      "text/html": [
       "<div>\n",
       "<style scoped>\n",
       "    .dataframe tbody tr th:only-of-type {\n",
       "        vertical-align: middle;\n",
       "    }\n",
       "\n",
       "    .dataframe tbody tr th {\n",
       "        vertical-align: top;\n",
       "    }\n",
       "\n",
       "    .dataframe thead th {\n",
       "        text-align: right;\n",
       "    }\n",
       "</style>\n",
       "<table border=\"1\" class=\"dataframe\">\n",
       "  <thead>\n",
       "    <tr style=\"text-align: right;\">\n",
       "      <th></th>\n",
       "      <th>children</th>\n",
       "      <th>dob_years</th>\n",
       "      <th>education</th>\n",
       "      <th>education_id</th>\n",
       "      <th>family_status</th>\n",
       "      <th>family_status_id</th>\n",
       "      <th>gender</th>\n",
       "      <th>income_type</th>\n",
       "      <th>debt</th>\n",
       "      <th>total_income</th>\n",
       "      <th>purpose</th>\n",
       "      <th>years_employed</th>\n",
       "      <th>purpose_type</th>\n",
       "    </tr>\n",
       "  </thead>\n",
       "  <tbody>\n",
       "    <tr>\n",
       "      <th>0</th>\n",
       "      <td>1</td>\n",
       "      <td>42</td>\n",
       "      <td>высшее</td>\n",
       "      <td>0</td>\n",
       "      <td>женат / замужем</td>\n",
       "      <td>0</td>\n",
       "      <td>F</td>\n",
       "      <td>Сверхвысокий</td>\n",
       "      <td>0</td>\n",
       "      <td>253875</td>\n",
       "      <td>покупка жилья</td>\n",
       "      <td>23</td>\n",
       "      <td>Недвижимость</td>\n",
       "    </tr>\n",
       "    <tr>\n",
       "      <th>1</th>\n",
       "      <td>1</td>\n",
       "      <td>36</td>\n",
       "      <td>среднее</td>\n",
       "      <td>1</td>\n",
       "      <td>женат / замужем</td>\n",
       "      <td>0</td>\n",
       "      <td>F</td>\n",
       "      <td>Средний</td>\n",
       "      <td>0</td>\n",
       "      <td>112080</td>\n",
       "      <td>приобретение автомобиля</td>\n",
       "      <td>11</td>\n",
       "      <td>Автомобиль</td>\n",
       "    </tr>\n",
       "    <tr>\n",
       "      <th>2</th>\n",
       "      <td>0</td>\n",
       "      <td>33</td>\n",
       "      <td>среднее</td>\n",
       "      <td>1</td>\n",
       "      <td>женат / замужем</td>\n",
       "      <td>0</td>\n",
       "      <td>M</td>\n",
       "      <td>Высокий</td>\n",
       "      <td>0</td>\n",
       "      <td>145885</td>\n",
       "      <td>покупка жилья</td>\n",
       "      <td>15</td>\n",
       "      <td>Недвижимость</td>\n",
       "    </tr>\n",
       "    <tr>\n",
       "      <th>3</th>\n",
       "      <td>3</td>\n",
       "      <td>32</td>\n",
       "      <td>среднее</td>\n",
       "      <td>1</td>\n",
       "      <td>женат / замужем</td>\n",
       "      <td>0</td>\n",
       "      <td>M</td>\n",
       "      <td>Сверхвысокий</td>\n",
       "      <td>0</td>\n",
       "      <td>267628</td>\n",
       "      <td>дополнительное образование</td>\n",
       "      <td>11</td>\n",
       "      <td>Образование</td>\n",
       "    </tr>\n",
       "    <tr>\n",
       "      <th>4</th>\n",
       "      <td>0</td>\n",
       "      <td>53</td>\n",
       "      <td>среднее</td>\n",
       "      <td>1</td>\n",
       "      <td>гражданский брак</td>\n",
       "      <td>1</td>\n",
       "      <td>F</td>\n",
       "      <td>Высокий</td>\n",
       "      <td>0</td>\n",
       "      <td>158616</td>\n",
       "      <td>сыграть свадьбу</td>\n",
       "      <td>932</td>\n",
       "      <td>Свадьба</td>\n",
       "    </tr>\n",
       "  </tbody>\n",
       "</table>\n",
       "</div>"
      ],
      "text/plain": [
       "   children  dob_years education  education_id     family_status  \\\n",
       "0         1         42    высшее             0   женат / замужем   \n",
       "1         1         36   среднее             1   женат / замужем   \n",
       "2         0         33   среднее             1   женат / замужем   \n",
       "3         3         32   среднее             1   женат / замужем   \n",
       "4         0         53   среднее             1  гражданский брак   \n",
       "\n",
       "   family_status_id gender   income_type  debt  total_income  \\\n",
       "0                 0      F  Сверхвысокий     0        253875   \n",
       "1                 0      F       Средний     0        112080   \n",
       "2                 0      M       Высокий     0        145885   \n",
       "3                 0      M  Сверхвысокий     0        267628   \n",
       "4                 1      F       Высокий     0        158616   \n",
       "\n",
       "                      purpose  years_employed  purpose_type  \n",
       "0               покупка жилья              23  Недвижимость  \n",
       "1     приобретение автомобиля              11    Автомобиль  \n",
       "2               покупка жилья              15  Недвижимость  \n",
       "3  дополнительное образование              11   Образование  \n",
       "4             сыграть свадьбу             932       Свадьба  "
      ]
     },
     "execution_count": 46,
     "metadata": {},
     "output_type": "execute_result"
    }
   ],
   "source": [
    "data.head()"
   ]
  },
  {
   "cell_type": "code",
   "execution_count": 47,
   "id": "a5ff6b2e",
   "metadata": {},
   "outputs": [],
   "source": [
    "purpose_pivot=data.pivot_table(index='purpose_type', columns='debt', values='purpose', aggfunc='count')"
   ]
  },
  {
   "cell_type": "code",
   "execution_count": 48,
   "id": "f2944dde",
   "metadata": {},
   "outputs": [
    {
     "name": "stdout",
     "output_type": "stream",
     "text": [
      "debt              0    1\n",
      "purpose_type            \n",
      "Автомобиль     3903  403\n",
      "Недвижимость  10029  782\n",
      "Образование    3643  370\n",
      "Свадьба        2138  186\n"
     ]
    }
   ],
   "source": [
    "print(purpose_pivot)"
   ]
  },
  {
   "cell_type": "code",
   "execution_count": 49,
   "id": "865173a8",
   "metadata": {},
   "outputs": [],
   "source": [
    "purpose_pivot['ratio']=purpose_pivot[1]/purpose_pivot[0]"
   ]
  },
  {
   "cell_type": "code",
   "execution_count": 50,
   "id": "b656ad64",
   "metadata": {},
   "outputs": [
    {
     "name": "stdout",
     "output_type": "stream",
     "text": [
      "debt              0    1     ratio\n",
      "purpose_type                      \n",
      "Автомобиль     3903  403  0.103254\n",
      "Недвижимость  10029  782  0.077974\n",
      "Образование    3643  370  0.101565\n",
      "Свадьба        2138  186  0.086997\n"
     ]
    }
   ],
   "source": [
    "print(purpose_pivot)"
   ]
  }
 ],
 "metadata": {
  "kernelspec": {
   "display_name": "Python 3 (ipykernel)",
   "language": "python",
   "name": "python3"
  },
  "language_info": {
   "codemirror_mode": {
    "name": "ipython",
    "version": 3
   },
   "file_extension": ".py",
   "mimetype": "text/x-python",
   "name": "python",
   "nbconvert_exporter": "python",
   "pygments_lexer": "ipython3",
   "version": "3.9.12"
  }
 },
 "nbformat": 4,
 "nbformat_minor": 5
}
